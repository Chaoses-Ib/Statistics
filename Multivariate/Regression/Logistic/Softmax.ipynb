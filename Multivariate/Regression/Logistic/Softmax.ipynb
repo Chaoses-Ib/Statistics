{
 "cells": [
  {
   "cell_type": "code",
   "execution_count": 1,
   "metadata": {},
   "outputs": [],
   "source": [
    "import torch"
   ]
  },
  {
   "cell_type": "code",
   "execution_count": 6,
   "metadata": {},
   "outputs": [
    {
     "data": {
      "text/plain": [
       "tensor([[[ 1.7135,  0.3132,  0.9837,  0.9091],\n",
       "         [-0.0751,  0.2312,  0.4098,  0.5644],\n",
       "         [-1.2191, -0.4465, -1.5008, -0.1872]],\n",
       "\n",
       "        [[-0.3480, -0.1541,  1.0224,  1.1132],\n",
       "         [-0.5619,  1.2856,  0.8122,  0.3704],\n",
       "         [ 2.4401, -1.2545,  1.7427,  0.5554]]])"
      ]
     },
     "execution_count": 6,
     "metadata": {},
     "output_type": "execute_result"
    }
   ],
   "source": [
    "v = torch.randn((2, 3, 4))\n",
    "v"
   ]
  },
  {
   "cell_type": "code",
   "execution_count": 9,
   "metadata": {},
   "outputs": [
    {
     "data": {
      "text/plain": [
       "tensor([[[0.4596, 0.1133, 0.2215, 0.2056],\n",
       "         [0.1701, 0.2311, 0.2763, 0.3225],\n",
       "         [0.1487, 0.3219, 0.1122, 0.4172]],\n",
       "\n",
       "        [[0.0956, 0.1160, 0.3763, 0.4121],\n",
       "         [0.0723, 0.4585, 0.2856, 0.1836],\n",
       "         [0.5971, 0.0148, 0.2973, 0.0907]]])"
      ]
     },
     "execution_count": 9,
     "metadata": {},
     "output_type": "execute_result"
    }
   ],
   "source": [
    "torch.softmax(v, dim=2)"
   ]
  },
  {
   "cell_type": "code",
   "execution_count": 10,
   "metadata": {},
   "outputs": [
    {
     "data": {
      "text/plain": [
       "tensor([[[0.8194, 0.4186, 0.6073, 0.4896],\n",
       "         [0.1370, 0.3856, 0.3421, 0.3468],\n",
       "         [0.0436, 0.1958, 0.0506, 0.1636]],\n",
       "\n",
       "        [[0.0554, 0.1801, 0.2587, 0.4882],\n",
       "         [0.0447, 0.7600, 0.2097, 0.2323],\n",
       "         [0.8999, 0.0599, 0.5316, 0.2795]]])"
      ]
     },
     "execution_count": 10,
     "metadata": {},
     "output_type": "execute_result"
    }
   ],
   "source": [
    "torch.softmax(v, dim=1)"
   ]
  },
  {
   "cell_type": "code",
   "execution_count": 11,
   "metadata": {},
   "outputs": [
    {
     "data": {
      "text/plain": [
       "tensor([[[0.8871, 0.6147, 0.4903, 0.4492],\n",
       "         [0.6194, 0.2584, 0.4007, 0.5483],\n",
       "         [0.0251, 0.6917, 0.0376, 0.3224]],\n",
       "\n",
       "        [[0.1129, 0.3853, 0.5097, 0.5508],\n",
       "         [0.3806, 0.7416, 0.5993, 0.4517],\n",
       "         [0.9749, 0.3083, 0.9624, 0.6776]]])"
      ]
     },
     "execution_count": 11,
     "metadata": {},
     "output_type": "execute_result"
    }
   ],
   "source": [
    "torch.softmax(v, dim=0)"
   ]
  }
 ],
 "metadata": {
  "language_info": {
   "name": "python"
  }
 },
 "nbformat": 4,
 "nbformat_minor": 2
}
